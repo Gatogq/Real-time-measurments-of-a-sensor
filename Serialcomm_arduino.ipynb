{
 "cells": [
  {
   "cell_type": "code",
   "execution_count": 1,
   "metadata": {},
   "outputs": [],
   "source": [
    "import serial\n",
    "import time\n",
    "import collections\n",
    "import matplotlib.pyplot as plt\n",
    "import matplotlib.animation as animation\n",
    "import numpy as np\n",
    "import serial.tools.list_ports\n",
    "%matplotlib tk"
   ]
  },
  {
   "cell_type": "code",
   "execution_count": 2,
   "metadata": {},
   "outputs": [],
   "source": [
    "def getSerialData(self,Samples,ArduinoPort,lines,lineValueText,lineLabel):\n",
    "  value = float(ArduinoPort.readline().strip()) #Esta linea lee el sensor \n",
    "  data.append(value) #Para guardar la lectura en la ultima posición\n",
    "  lines.set_data(range(Samples), data) #Dibuja una nueva línea\n",
    "  lineValueText.set_text(lineLabel+' = ' + str(round(value,2))) #Para mostrar los valores del sensor\n"
   ]
  },
  {
   "cell_type": "code",
   "execution_count": 9,
   "metadata": {},
   "outputs": [
    {
     "data": {
      "text/plain": [
       "['Silicon Labs', 'Microsoft', 'Microsoft']"
      ]
     },
     "execution_count": 9,
     "metadata": {},
     "output_type": "execute_result"
    }
   ],
   "source": [
    "ports=serial.tools.list_ports.comports() #Se pide una lista de todos los puertos disponibles en el dispositivo\n",
    "[port.manufacturer for port in ports]    #Se obtiene lista de fabricantes, para ubicar el puerto en el que se conecto el arduino"
   ]
  },
  {
   "cell_type": "code",
   "execution_count": null,
   "metadata": {},
   "outputs": [],
   "source": [
    " #Se indica el puerto serial de arduino que se está usando (En este caso el primer puerto de la lista (ports[0]))\n",
    "ArduinoPort = serial.Serial(ports[0].device, 9600)\n"
   ]
  },
  {
   "cell_type": "code",
   "execution_count": null,
   "metadata": {},
   "outputs": [],
   "source": [
    "Samples =100\n",
    "data = collections.deque([0] * Samples, maxlen =Samples) #Vector de muestras \n",
    "sampleTime = 100 #Tiempo de muestreo\n",
    "\n",
    "#Limites de los ejes\n",
    "xmin = 0\n",
    "xmax = Samples\n",
    "ymin = 0\n",
    "ymax = 100\n"
   ]
  },
  {
   "cell_type": "code",
   "execution_count": null,
   "metadata": {},
   "outputs": [],
   "source": []
  },
  {
   "cell_type": "code",
   "execution_count": null,
   "metadata": {},
   "outputs": [],
   "source": [
    "fig = plt.figure(figsize = (13,6))\n",
    "ax = plt.axes (xlim = (xmin,xmax), ylim=(ymin,ymax))\n",
    "plt.title(\"Lecturas del sensor de temperatura\")\n",
    "ax.set_xlabel(\"Samples\")\n",
    "ax.set_ylabel(\"TEMP °C\")\n",
    "\n",
    "lineLabel = \"TEMP\"\n",
    "lines = ax.plot([],[],label = lineLabel)[0] \n",
    "linesValueText = ax.text(0.85,0.95, '', transform = ax.transAxes)\n",
    "anim = animation.FuncAnimation(fig,getSerialData, fargs=(Samples,ArduinoPort,lines,linesValueText,lineLabel), interval =sampleTime)\n",
    "plt.show()\n"
   ]
  },
  {
   "cell_type": "code",
   "execution_count": null,
   "metadata": {},
   "outputs": [],
   "source": [
    "ArduinoPort.close()"
   ]
  },
  {
   "cell_type": "code",
   "execution_count": null,
   "metadata": {},
   "outputs": [],
   "source": []
  }
 ],
 "metadata": {
  "kernelspec": {
   "display_name": "Python 3",
   "language": "python",
   "name": "python3"
  },
  "language_info": {
   "codemirror_mode": {
    "name": "ipython",
    "version": 3
   },
   "file_extension": ".py",
   "mimetype": "text/x-python",
   "name": "python",
   "nbconvert_exporter": "python",
   "pygments_lexer": "ipython3",
   "version": "3.8.5"
  }
 },
 "nbformat": 4,
 "nbformat_minor": 4
}
